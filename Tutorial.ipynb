{
 "cells": [
  {
   "cell_type": "markdown",
   "metadata": {},
   "source": [
    "# Tutorial\n",
    "This tutorial demonstrates how to use MOGT functions with a demo dataset (SCZ as an example). Once you are familiar with SCZ’s workflow, please replace the demo data with your own data to begin your analysis. \n",
    "\n",
    "## How to prepare input data\n",
    "\n",
    "We recommend getting started with SCZ using the provided demo dataset. When you want to apply SCZ to your own multi-omics dataset, please refer to the following tutorials to learn how to prepare input data.\n",
    "\n",
    "Overall, the input data consists of two parts: the graph, constructed from SNP-SNP interaction and the node feature including DE, EPI, and gene expression in five brain regions（Parietal Lobe, Frontal Lobe, Temporal Lobe, Cerebellum, and Occipital Lobe）in adolescents and adults.\n",
    "\n",
    "If you are unfamiliar with MOGT, you may start with our data used in the paper to save your time. For SCZ, the input data as well as the label information are uploaded [here](https://github.com/NBStarry/CGMega/tree/main/data). If you start with this data, you can skip the _step 1_ about _How to prepare input data_.\n",
    "\n",
    "> The labels should be collected yourself if you choose analyze your own data."
   ]
  },
  {
   "cell_type": "markdown",
   "metadata": {},
   "source": [
    "### Import default params and set constants"
   ]
  },
  {
   "cell_type": "markdown",
   "metadata": {},
   "source": [
    "### load omics data\n",
    "The input demo data as well as the label information are uploaded [here](https://github.com/JiafangLi/MOGT/tree/main/data), put it into DATA_DIR, and run:"
   ]
  },
  {
   "cell_type": "code",
   "execution_count": null,
   "metadata": {},
   "outputs": [],
   "source": [
    "node_feat, pos = get_node_feat(disease=disease)\n",
    "feat_cols = [\"de\",\"brain_cp\",\"brain_gz\",\"neuron_count\",\"oligo_count\",\"micro_count\",\"adolescence_parietal.lobe\",\"adolescence_frontal.lobe\",\"adolescence_temporal.lobe\",\"adolescence_cerebellum\",\"adolescence_occipital.lobe\",\"adulthood_parietal.lobe\",\"adulthood_frontal.lobe\",\"adulthood_temporal.lobe\",\"adulthood_cerebellum\",\"adulthood_occipital.lobe\"]\n",
    "feat_df = pd.DataFrame(data=node_feat, columns=feat_cols)\n",
    "feat_df = pd.concat([GENE_LIST, feat_df], axis=1)\n",
    "feat_df[:10]"
   ]
  },
  {
   "cell_type": "markdown",
   "metadata": {},
   "source": [
    "### SNP-SNP interaction construction\n",
    "Then, we read the SNP-SNP interaction data (SNP-SNP interaction from [Zenodo]()) and transform it into a graph through the following commands:"
   ]
  },
  {
   "cell_type": "code",
   "execution_count": null,
   "metadata": {},
   "outputs": [],
   "source": [
    "snp_mat = get_snp_mat(disease=disease)\n",
    "snp_mat[20:30, 20:30]"
   ]
  },
  {
   "cell_type": "markdown",
   "metadata": {},
   "source": [
    "### Load gene labels"
   ]
  },
  {
   "cell_type": "code",
   "execution_count": null,
   "metadata": {},
   "outputs": [],
   "source": [
    "node_lab, labeled_idx = get_label(disease=disease )\n",
    "labeled_lab = [node_lab[i][1] for i in labeled_idx]\n",
    "print(f\"Positive samples: {sum(node_lab)[1]}  Negative samples: {sum(node_lab)[0]}  Unlabeled samples: {len(node_lab) - len(labeled_idx)}\")\n",
    "print(node_lab)"
   ]
  },
  {
   "cell_type": "markdown",
   "metadata": {},
   "source": [
    "### Build PyG Data instance"
   ]
  },
  {
   "cell_type": "code",
   "execution_count": null,
   "metadata": {},
   "outputs": [],
   "source": [
    "from data_preprocess_cv import build_pyg_data\n",
    "edge_threshhold = configs[\"edge_threshhold\"]\n",
    "random = configs[\"random\"]\n",
    "data = build_pyg_data(GENE_LIST,node_feat, node_lab, snp_mat, pos,edge_threshhold,random)\n",
    "data"
   ]
  },
  {
   "cell_type": "markdown",
   "metadata": {},
   "source": [
    "### Do train-test split\n",
    "\n",
    "25% for test set, 75% for a 10-fold train-valid spilt."
   ]
  },
  {
   "cell_type": "code",
   "execution_count": null,
   "metadata": {},
   "outputs": [],
   "source": [
    "from data_preprocess_cv import split_data\n",
    "train_idx_list,valid_idx_list,test_idx = split_data(CV_FOLDS,labeled_idx,labeled_lab)"
   ]
  },
  {
   "cell_type": "markdown",
   "metadata": {},
   "source": [
    "### Create CancerDataset and Save"
   ]
  },
  {
   "cell_type": "code",
   "execution_count": null,
   "metadata": {},
   "outputs": [],
   "source": [
    "import pickle\n",
    "cv_dataset = create_cv_dataset(train_idx_list.copy(), valid_idx_list.copy(), test_idx.copy(), data=data)\n",
    "print(cv_dataset[0])\n",
    "dataset_dir = \"data/\" + configs[\"disease\"] + \"/\"+ configs[\"disease\"]+ \"_dataset.pkl\"\n",
    "print(f'Finished! Saving dataset to {dataset_dir} ......')\n",
    "with open(dataset_dir, 'wb') as f:\n",
    "    pickle.dump(cv_dataset, f)"
   ]
  },
  {
   "cell_type": "markdown",
   "metadata": {},
   "source": [
    "### Load data and Train model <div id=\"load-data-and-train-model\"></div>\n",
    "\n",
    "A 5-fold training."
   ]
  },
  {
   "cell_type": "code",
   "execution_count": null,
   "metadata": {},
   "outputs": [],
   "source": [
    "from main import get_training_modules, train_model, predict, calculate_metrics, pred_to_df,test\n",
    "from data_preprocess_cv import scale_data\n",
    "\n",
    "configs['stable'] = True\n",
    "\n",
    "# set to 'cuda' to use GPU.\n",
    "configs['device'] = 'cuda'\n",
    "\n",
    "# Set log_name and logfile to suit your needs, and you will see training details in logfile.\n",
    "configs['log_name'] = configs[\"disease\"]\n",
    "configs['logfile'] = os.path.join(configs[\"log_dir\"], configs[\"log_name\"] + \".txt\")\n",
    "\n",
    "dataset = get_data(configs,disease)\n",
    "\n",
    "\n",
    "def calculate_confidence_interval(scores):\n",
    "    mean = np.mean(scores)\n",
    "    std = np.std(scores)\n",
    "    n = len(scores)\n",
    "    z = 1.96  # Z-value at 95% confidence level\n",
    "    bound = (z * std / np.sqrt(n))\n",
    "    return bound\n",
    "\n",
    "sum_auprc, sum_auc, sum_acc, sum_f1, sum_tp, train_result = [], [], [], [], [], []\n",
    "for i in range(CV_FOLDS):\n",
    "    head_info = True if i == 0 else False \n",
    "    configs['fold'] = i\n",
    "    data = dataset\n",
    "    data = scale_data(data,i)\n",
    "    modules = get_training_modules(configs, data)\n",
    "    auprc, auc, acc, f1, tp, new_ckpt,cutoff = train_model(modules, configs, configs['log_name'], i, head_info,)\n",
    "    y_score, y_pred, y_true, y_index, genes = predict(modules['model'], modules['test_loader_list'], configs, new_ckpt)\n",
    "    acc, cf_matrix, auprc, f1, auc, test_cutoff = calculate_metrics(y_true, y_pred, y_score)\n",
    "     #save test result\n",
    "    y = pd.DataFrame({'y_true': y_true, 'y_score': y_score,\"y_pred\":y_pred,\"cutoff\":cutoff})\n",
    "    result = pd.concat([genes,y], axis=1)\n",
    "    result.to_csv(configs[\"out_dir\"]+\"/\"+disease +\"/\"+disease+\"_\"+\"test\"+\"_\"+str(i)+\".csv\",index_label=False)\n",
    "\n",
    "\n",
    "    tp = cf_matrix[1, 1]\n",
    "    sum_auprc.append(auprc)\n",
    "    sum_auc.append(auc)\n",
    "    sum_acc.append(acc)\n",
    "    sum_f1.append(f1)\n",
    "    sum_tp.append(tp)\n",
    "    with open(configs['logfile'], 'a') as f:\n",
    "        print(\"Test AUPRC:{:.4f}, AUROC:{:.4f}, ACC:{:.4f}, F1:{:.4f}, TP:{:.1f},cutoff:{:.4f}\"\n",
    "            .format(auprc, auc, acc, f1, tp,test_cutoff), file=f, flush=True)\n",
    "    train_result =  pred_to_df(i, train_result, y_index, y_true, y_score)\n",
    "auc_ci = calculate_confidence_interval(sum_auc)\n",
    "auprc_ci = calculate_confidence_interval(sum_auprc)\n",
    "avg_auc = sum(sum_auc) / len(sum_auc)\n",
    "avg_Auprc = sum(sum_auprc) / len(sum_auprc)\n",
    "avg_fi = sum(sum_f1) / len(sum_f1)\n",
    "with open(configs['logfile'], 'a') as f:\n",
    "    print(f\"{CV_FOLDS}-folds AUPRC:{avg_Auprc:.4f}+{auprc_ci}, AUROC:{avg_auc:.4f}+{auc_ci}, F1:{avg_fi:.4f}\",\n",
    "            file=f, flush=True)\n",
    "\n"
   ]
  }
 ],
 "metadata": {
  "kernelspec": {
   "display_name": "cgmega",
   "language": "python",
   "name": "python3"
  },
  "language_info": {
   "codemirror_mode": {
    "name": "ipython",
    "version": 3
   },
   "file_extension": ".py",
   "mimetype": "text/x-python",
   "name": "python",
   "nbconvert_exporter": "python",
   "pygments_lexer": "ipython3",
   "version": "3.8.20"
  },
  "orig_nbformat": 4
 },
 "nbformat": 4,
 "nbformat_minor": 2
}
